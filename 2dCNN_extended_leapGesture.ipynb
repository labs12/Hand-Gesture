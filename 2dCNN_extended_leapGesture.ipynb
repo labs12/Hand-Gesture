{
 "cells": [
  {
   "cell_type": "code",
   "execution_count": 2,
   "id": "critical-carter",
   "metadata": {},
   "outputs": [],
   "source": [
    "import os\n",
    "import shutil"
   ]
  },
  {
   "cell_type": "code",
   "execution_count": 22,
   "id": "guided-things",
   "metadata": {},
   "outputs": [],
   "source": [
    "data_path = \"../datasets/leapgestrecog/leapGestRecog/\"\n",
    "n = 0 "
   ]
  },
  {
   "cell_type": "code",
   "execution_count": 23,
   "id": "heated-harris",
   "metadata": {},
   "outputs": [],
   "source": [
    "def list_data(path):\n",
    "    label = 0 \n",
    "    for i in os.listdir(path): #00~09\n",
    "        file1 = os.path.join(path,i)\n",
    "        for j in os.listdir(file1): #01_palm~10_down\n",
    "            label = label+1\n",
    "            file2 = os.path.join(file1,j)\n",
    "            print(\"[INFO]file:%s %s\"%(file2,j))\n",
    "            for k in os.listdir(file2):\n",
    "                img_name = os.path.join(file2,k)\n",
    "                path2 = \"../datasets/leapgestrecog/leapGestRecog/train/\"+str(label)+'/'\n",
    "                if not os.path.exists(path2):\n",
    "                    os.makedirs(path2)\n",
    "                shutil.move(img_name, path2+str(k))\n",
    "        print(\"[INFO]ONE PORTION FINISHED:\",file2)\n",
    "        label =0\n",
    "    print(\"[INFO] ALL FINISHED\")\n",
    "                \n",
    "            "
   ]
  },
  {
   "cell_type": "code",
   "execution_count": 24,
   "id": "lovely-collective",
   "metadata": {},
   "outputs": [
    {
     "name": "stdout",
     "output_type": "stream",
     "text": [
      "[INFO]file:../datasets/leapgestrecog/leapGestRecog/00/01_palm 01_palm\n",
      "[INFO]file:../datasets/leapgestrecog/leapGestRecog/00/02_l 02_l\n",
      "[INFO]file:../datasets/leapgestrecog/leapGestRecog/00/03_fist 03_fist\n",
      "[INFO]file:../datasets/leapgestrecog/leapGestRecog/00/04_fist_moved 04_fist_moved\n",
      "[INFO]file:../datasets/leapgestrecog/leapGestRecog/00/05_thumb 05_thumb\n",
      "[INFO]file:../datasets/leapgestrecog/leapGestRecog/00/06_index 06_index\n",
      "[INFO]file:../datasets/leapgestrecog/leapGestRecog/00/07_ok 07_ok\n",
      "[INFO]file:../datasets/leapgestrecog/leapGestRecog/00/08_palm_moved 08_palm_moved\n",
      "[INFO]file:../datasets/leapgestrecog/leapGestRecog/00/09_c 09_c\n",
      "[INFO]file:../datasets/leapgestrecog/leapGestRecog/00/10_down 10_down\n",
      "[INFO]ONE PORTION FINISHED: ../datasets/leapgestrecog/leapGestRecog/00/10_down\n",
      "[INFO]file:../datasets/leapgestrecog/leapGestRecog/01/01_palm 01_palm\n",
      "[INFO]file:../datasets/leapgestrecog/leapGestRecog/01/02_l 02_l\n",
      "[INFO]file:../datasets/leapgestrecog/leapGestRecog/01/03_fist 03_fist\n",
      "[INFO]file:../datasets/leapgestrecog/leapGestRecog/01/04_fist_moved 04_fist_moved\n",
      "[INFO]file:../datasets/leapgestrecog/leapGestRecog/01/05_thumb 05_thumb\n",
      "[INFO]file:../datasets/leapgestrecog/leapGestRecog/01/06_index 06_index\n",
      "[INFO]file:../datasets/leapgestrecog/leapGestRecog/01/07_ok 07_ok\n",
      "[INFO]file:../datasets/leapgestrecog/leapGestRecog/01/08_palm_moved 08_palm_moved\n",
      "[INFO]file:../datasets/leapgestrecog/leapGestRecog/01/09_c 09_c\n",
      "[INFO]file:../datasets/leapgestrecog/leapGestRecog/01/10_down 10_down\n",
      "[INFO]ONE PORTION FINISHED: ../datasets/leapgestrecog/leapGestRecog/01/10_down\n",
      "[INFO]file:../datasets/leapgestrecog/leapGestRecog/02/01_palm 01_palm\n",
      "[INFO]file:../datasets/leapgestrecog/leapGestRecog/02/02_l 02_l\n",
      "[INFO]file:../datasets/leapgestrecog/leapGestRecog/02/03_fist 03_fist\n",
      "[INFO]file:../datasets/leapgestrecog/leapGestRecog/02/04_fist_moved 04_fist_moved\n",
      "[INFO]file:../datasets/leapgestrecog/leapGestRecog/02/05_thumb 05_thumb\n",
      "[INFO]file:../datasets/leapgestrecog/leapGestRecog/02/06_index 06_index\n",
      "[INFO]file:../datasets/leapgestrecog/leapGestRecog/02/07_ok 07_ok\n",
      "[INFO]file:../datasets/leapgestrecog/leapGestRecog/02/08_palm_moved 08_palm_moved\n",
      "[INFO]file:../datasets/leapgestrecog/leapGestRecog/02/09_c 09_c\n",
      "[INFO]file:../datasets/leapgestrecog/leapGestRecog/02/10_down 10_down\n",
      "[INFO]ONE PORTION FINISHED: ../datasets/leapgestrecog/leapGestRecog/02/10_down\n",
      "[INFO]file:../datasets/leapgestrecog/leapGestRecog/03/01_palm 01_palm\n",
      "[INFO]file:../datasets/leapgestrecog/leapGestRecog/03/02_l 02_l\n",
      "[INFO]file:../datasets/leapgestrecog/leapGestRecog/03/03_fist 03_fist\n",
      "[INFO]file:../datasets/leapgestrecog/leapGestRecog/03/04_fist_moved 04_fist_moved\n",
      "[INFO]file:../datasets/leapgestrecog/leapGestRecog/03/05_thumb 05_thumb\n",
      "[INFO]file:../datasets/leapgestrecog/leapGestRecog/03/06_index 06_index\n",
      "[INFO]file:../datasets/leapgestrecog/leapGestRecog/03/07_ok 07_ok\n",
      "[INFO]file:../datasets/leapgestrecog/leapGestRecog/03/08_palm_moved 08_palm_moved\n",
      "[INFO]file:../datasets/leapgestrecog/leapGestRecog/03/09_c 09_c\n",
      "[INFO]file:../datasets/leapgestrecog/leapGestRecog/03/10_down 10_down\n",
      "[INFO]ONE PORTION FINISHED: ../datasets/leapgestrecog/leapGestRecog/03/10_down\n",
      "[INFO]file:../datasets/leapgestrecog/leapGestRecog/04/01_palm 01_palm\n",
      "[INFO]file:../datasets/leapgestrecog/leapGestRecog/04/02_l 02_l\n",
      "[INFO]file:../datasets/leapgestrecog/leapGestRecog/04/03_fist 03_fist\n",
      "[INFO]file:../datasets/leapgestrecog/leapGestRecog/04/04_fist_moved 04_fist_moved\n",
      "[INFO]file:../datasets/leapgestrecog/leapGestRecog/04/05_thumb 05_thumb\n",
      "[INFO]file:../datasets/leapgestrecog/leapGestRecog/04/06_index 06_index\n",
      "[INFO]file:../datasets/leapgestrecog/leapGestRecog/04/07_ok 07_ok\n",
      "[INFO]file:../datasets/leapgestrecog/leapGestRecog/04/08_palm_moved 08_palm_moved\n",
      "[INFO]file:../datasets/leapgestrecog/leapGestRecog/04/09_c 09_c\n",
      "[INFO]file:../datasets/leapgestrecog/leapGestRecog/04/10_down 10_down\n",
      "[INFO]ONE PORTION FINISHED: ../datasets/leapgestrecog/leapGestRecog/04/10_down\n",
      "[INFO]file:../datasets/leapgestrecog/leapGestRecog/05/01_palm 01_palm\n",
      "[INFO]file:../datasets/leapgestrecog/leapGestRecog/05/02_l 02_l\n",
      "[INFO]file:../datasets/leapgestrecog/leapGestRecog/05/03_fist 03_fist\n",
      "[INFO]file:../datasets/leapgestrecog/leapGestRecog/05/04_fist_moved 04_fist_moved\n",
      "[INFO]file:../datasets/leapgestrecog/leapGestRecog/05/05_thumb 05_thumb\n",
      "[INFO]file:../datasets/leapgestrecog/leapGestRecog/05/06_index 06_index\n",
      "[INFO]file:../datasets/leapgestrecog/leapGestRecog/05/07_ok 07_ok\n",
      "[INFO]file:../datasets/leapgestrecog/leapGestRecog/05/08_palm_moved 08_palm_moved\n",
      "[INFO]file:../datasets/leapgestrecog/leapGestRecog/05/09_c 09_c\n",
      "[INFO]file:../datasets/leapgestrecog/leapGestRecog/05/10_down 10_down\n",
      "[INFO]ONE PORTION FINISHED: ../datasets/leapgestrecog/leapGestRecog/05/10_down\n",
      "[INFO]file:../datasets/leapgestrecog/leapGestRecog/06/01_palm 01_palm\n",
      "[INFO]file:../datasets/leapgestrecog/leapGestRecog/06/02_l 02_l\n",
      "[INFO]file:../datasets/leapgestrecog/leapGestRecog/06/03_fist 03_fist\n",
      "[INFO]file:../datasets/leapgestrecog/leapGestRecog/06/04_fist_moved 04_fist_moved\n",
      "[INFO]file:../datasets/leapgestrecog/leapGestRecog/06/05_thumb 05_thumb\n",
      "[INFO]file:../datasets/leapgestrecog/leapGestRecog/06/06_index 06_index\n",
      "[INFO]file:../datasets/leapgestrecog/leapGestRecog/06/07_ok 07_ok\n",
      "[INFO]file:../datasets/leapgestrecog/leapGestRecog/06/08_palm_moved 08_palm_moved\n",
      "[INFO]file:../datasets/leapgestrecog/leapGestRecog/06/09_c 09_c\n",
      "[INFO]file:../datasets/leapgestrecog/leapGestRecog/06/10_down 10_down\n",
      "[INFO]ONE PORTION FINISHED: ../datasets/leapgestrecog/leapGestRecog/06/10_down\n",
      "[INFO]file:../datasets/leapgestrecog/leapGestRecog/07/01_palm 01_palm\n",
      "[INFO]file:../datasets/leapgestrecog/leapGestRecog/07/02_l 02_l\n",
      "[INFO]file:../datasets/leapgestrecog/leapGestRecog/07/03_fist 03_fist\n",
      "[INFO]file:../datasets/leapgestrecog/leapGestRecog/07/04_fist_moved 04_fist_moved\n",
      "[INFO]file:../datasets/leapgestrecog/leapGestRecog/07/05_thumb 05_thumb\n",
      "[INFO]file:../datasets/leapgestrecog/leapGestRecog/07/06_index 06_index\n",
      "[INFO]file:../datasets/leapgestrecog/leapGestRecog/07/07_ok 07_ok\n",
      "[INFO]file:../datasets/leapgestrecog/leapGestRecog/07/08_palm_moved 08_palm_moved\n",
      "[INFO]file:../datasets/leapgestrecog/leapGestRecog/07/09_c 09_c\n",
      "[INFO]file:../datasets/leapgestrecog/leapGestRecog/07/10_down 10_down\n",
      "[INFO]ONE PORTION FINISHED: ../datasets/leapgestrecog/leapGestRecog/07/10_down\n",
      "[INFO]file:../datasets/leapgestrecog/leapGestRecog/08/01_palm 01_palm\n",
      "[INFO]file:../datasets/leapgestrecog/leapGestRecog/08/02_l 02_l\n",
      "[INFO]file:../datasets/leapgestrecog/leapGestRecog/08/03_fist 03_fist\n",
      "[INFO]file:../datasets/leapgestrecog/leapGestRecog/08/04_fist_moved 04_fist_moved\n",
      "[INFO]file:../datasets/leapgestrecog/leapGestRecog/08/05_thumb 05_thumb\n",
      "[INFO]file:../datasets/leapgestrecog/leapGestRecog/08/06_index 06_index\n",
      "[INFO]file:../datasets/leapgestrecog/leapGestRecog/08/07_ok 07_ok\n",
      "[INFO]file:../datasets/leapgestrecog/leapGestRecog/08/08_palm_moved 08_palm_moved\n",
      "[INFO]file:../datasets/leapgestrecog/leapGestRecog/08/09_c 09_c\n",
      "[INFO]file:../datasets/leapgestrecog/leapGestRecog/08/10_down 10_down\n",
      "[INFO]ONE PORTION FINISHED: ../datasets/leapgestrecog/leapGestRecog/08/10_down\n",
      "[INFO]file:../datasets/leapgestrecog/leapGestRecog/09/01_palm 01_palm\n",
      "[INFO]file:../datasets/leapgestrecog/leapGestRecog/09/02_l 02_l\n",
      "[INFO]file:../datasets/leapgestrecog/leapGestRecog/09/03_fist 03_fist\n",
      "[INFO]file:../datasets/leapgestrecog/leapGestRecog/09/04_fist_moved 04_fist_moved\n",
      "[INFO]file:../datasets/leapgestrecog/leapGestRecog/09/05_thumb 05_thumb\n",
      "[INFO]file:../datasets/leapgestrecog/leapGestRecog/09/06_index 06_index\n",
      "[INFO]file:../datasets/leapgestrecog/leapGestRecog/09/07_ok 07_ok\n",
      "[INFO]file:../datasets/leapgestrecog/leapGestRecog/09/08_palm_moved 08_palm_moved\n",
      "[INFO]file:../datasets/leapgestrecog/leapGestRecog/09/09_c 09_c\n",
      "[INFO]file:../datasets/leapgestrecog/leapGestRecog/09/10_down 10_down\n",
      "[INFO]ONE PORTION FINISHED: ../datasets/leapgestrecog/leapGestRecog/09/10_down\n",
      "[INFO] ALL FINISHED\n"
     ]
    }
   ],
   "source": [
    "list_data(data_path)"
   ]
  },
  {
   "cell_type": "code",
   "execution_count": 25,
   "id": "studied-retro",
   "metadata": {},
   "outputs": [
    {
     "name": "stdout",
     "output_type": "stream",
     "text": [
      "../datasets/leapgestrecog/leapGestRecog/train//1\n",
      "[INFO] FINISHED COPYING: ../datasets/leapgestrecog/leapGestRecog/train_data/train/1\n",
      "../datasets/leapgestrecog/leapGestRecog/train//10\n",
      "[INFO] FINISHED COPYING: ../datasets/leapgestrecog/leapGestRecog/train_data/train/10\n",
      "../datasets/leapgestrecog/leapGestRecog/train//2\n",
      "[INFO] FINISHED COPYING: ../datasets/leapgestrecog/leapGestRecog/train_data/train/2\n",
      "../datasets/leapgestrecog/leapGestRecog/train//3\n",
      "[INFO] FINISHED COPYING: ../datasets/leapgestrecog/leapGestRecog/train_data/train/3\n",
      "../datasets/leapgestrecog/leapGestRecog/train//4\n",
      "[INFO] FINISHED COPYING: ../datasets/leapgestrecog/leapGestRecog/train_data/train/4\n",
      "../datasets/leapgestrecog/leapGestRecog/train//5\n",
      "[INFO] FINISHED COPYING: ../datasets/leapgestrecog/leapGestRecog/train_data/train/5\n",
      "../datasets/leapgestrecog/leapGestRecog/train//6\n",
      "[INFO] FINISHED COPYING: ../datasets/leapgestrecog/leapGestRecog/train_data/train/6\n",
      "../datasets/leapgestrecog/leapGestRecog/train//7\n",
      "[INFO] FINISHED COPYING: ../datasets/leapgestrecog/leapGestRecog/train_data/train/7\n",
      "../datasets/leapgestrecog/leapGestRecog/train//8\n",
      "[INFO] FINISHED COPYING: ../datasets/leapgestrecog/leapGestRecog/train_data/train/8\n",
      "../datasets/leapgestrecog/leapGestRecog/train//9\n",
      "[INFO] FINISHED COPYING: ../datasets/leapgestrecog/leapGestRecog/train_data/train/9\n"
     ]
    }
   ],
   "source": [
    "dataset_dir = \"../datasets/leapgestrecog/leapGestRecog/train/\"\n",
    "#the directory where we will store the fragmented datasets\n",
    "base_dir = \"../datasets/leapgestrecog/leapGestRecog/train_data/\"\n",
    "if not os.path.exists(base_dir):\n",
    "    os.makedirs(base_dir)\n",
    "    \n",
    "#Directories used for our model\n",
    "#Spliting Validation and Test Sets\n",
    "train_dir = os.path.join(base_dir,'train')\n",
    "if not os.path.exists(train_dir):\n",
    "    os.makedirs(train_dir)\n",
    "    \n",
    "val_dir = os.path.join(base_dir,'val')\n",
    "if not os.path.exists(val_dir):\n",
    "    os.makedirs(val_dir)\n",
    "\n",
    "test_dir = os.path.join(base_dir,'test')\n",
    "if not os.path.exists(test_dir):\n",
    "    os.makedirs(test_dir)\n",
    "    \n",
    "for num in os.listdir(dataset_dir):\n",
    "    # which is 1~10 in our train folder\n",
    "    \n",
    "    train_idx_dir = os.path.join(train_dir,num)\n",
    "    if not os.path.exists(train_idx_dir):\n",
    "        os.makedirs(train_idx_dir)\n",
    "        \n",
    "    val_idx_dir = os.path.join(val_dir,num)\n",
    "    if not os.path.exists(val_idx_dir):\n",
    "        os.makedirs(val_idx_dir)\n",
    "        \n",
    "    test_idx_dir = os.path.join(test_dir,num)\n",
    "    if not os.path.exists(test_idx_dir):\n",
    "        os.makedirs(test_idx_dir)\n",
    "        \n",
    "    dataset_idx_dir = dataset_dir+'/'+num\n",
    "    print(dataset_idx_dir)\n",
    "    \n",
    "    j = 0\n",
    "    \n",
    "    for fname in os.listdir(dataset_idx_dir): # WHICH WILLL BE TOTAL 2000 AS EACH FOLDER =200; 200*10\n",
    "        if j<1000:\n",
    "            source = os.path.join(dataset_idx_dir,fname)\n",
    "            destination = os.path.join(train_idx_dir,fname)\n",
    "            shutil.copyfile(source,destination)\n",
    "        elif (j>=1000 and j<1500): \n",
    "            source = os.path.join(dataset_idx_dir,fname)\n",
    "            destination = os.path.join(val_idx_dir,fname)\n",
    "            shutil.copyfile(source,destination)\n",
    "        elif (j>=1500):\n",
    "            source = os.path.join(dataset_idx_dir,fname)\n",
    "            destination = os.path.join(test_idx_dir,fname)\n",
    "            shutil.copyfile(source,destination)\n",
    "            \n",
    "        j = j+1\n",
    "    print(\"[INFO] FINISHED COPYING:\", train_idx_dir)\n",
    "    "
   ]
  },
  {
   "cell_type": "code",
   "execution_count": 3,
   "id": "endangered-feature",
   "metadata": {},
   "outputs": [],
   "source": [
    "train_dir = '../datasets/leapgestrecog/leapGestRecog/train_data/train/'\n",
    "val_dir = '../datasets/leapgestrecog/leapGestRecog/train_data/val/'\n",
    "test_dir = '../datasets/leapgestrecog/leapGestRecog/train_data/test/'"
   ]
  },
  {
   "cell_type": "code",
   "execution_count": 4,
   "id": "effective-subcommittee",
   "metadata": {},
   "outputs": [
    {
     "name": "stdout",
     "output_type": "stream",
     "text": [
      "Total Training Folder: 10\n",
      "Total Validation Folder: 10\n",
      "Total Test Folder: 10\n"
     ]
    }
   ],
   "source": [
    "print('Total Training Folder:', len(os.listdir(train_dir)))\n",
    "print('Total Validation Folder:', len(os.listdir(val_dir)))\n",
    "print(\"Total Test Folder:\", len(os.listdir(test_dir)))\n"
   ]
  },
  {
   "cell_type": "code",
   "execution_count": 5,
   "id": "certain-vocabulary",
   "metadata": {},
   "outputs": [
    {
     "name": "stdout",
     "output_type": "stream",
     "text": [
      "Total Training Images: 1000\n",
      "Total Validation Images: 500\n",
      "Total Test Images: 500\n"
     ]
    }
   ],
   "source": [
    "print(\"Total Training Images:\", len(os.listdir(train_dir+'/3/')))\n",
    "print(\"Total Validation Images:\", len(os.listdir(val_dir+'/1/')))\n",
    "print(\"Total Test Images:\", len(os.listdir(test_dir+'/1')))"
   ]
  },
  {
   "cell_type": "code",
   "execution_count": 6,
   "id": "impressed-struggle",
   "metadata": {},
   "outputs": [
    {
     "name": "stdout",
     "output_type": "stream",
     "text": [
      "Found 10000 images belonging to 10 classes.\n",
      "Found 5000 images belonging to 10 classes.\n",
      "Found 5000 images belonging to 10 classes.\n"
     ]
    }
   ],
   "source": [
    "from tensorflow.keras.preprocessing.image import ImageDataGenerator\n",
    "\n",
    "train_datagen = ImageDataGenerator(rescale=1./255)\n",
    "val_datagen = ImageDataGenerator(rescale=1./255)\n",
    "test_datagen = ImageDataGenerator(rescale=1./255)\n",
    "\n",
    "train_generator = train_datagen.flow_from_directory(train_dir,target_size =(112,112),\n",
    "                                                   batch_size = 64,\n",
    "                                                   class_mode = 'binary')\n",
    "val_generator = val_datagen.flow_from_directory(val_dir, target_size=(112,112),\n",
    "                                               batch_size =64,\n",
    "                                               class_mode = 'binary')\n",
    "test_generator = test_datagen.flow_from_directory(test_dir,target_size=(112,112),\n",
    "                                                 batch_size = 64,\n",
    "                                                 class_mode = 'binary')"
   ]
  },
  {
   "cell_type": "code",
   "execution_count": 11,
   "id": "objective-combine",
   "metadata": {},
   "outputs": [
    {
     "data": {
      "text/plain": [
       "<keras_preprocessing.image.directory_iterator.DirectoryIterator at 0x7fe8cfb88d50>"
      ]
     },
     "execution_count": 11,
     "metadata": {},
     "output_type": "execute_result"
    }
   ],
   "source": [
    "train_generator\n"
   ]
  },
  {
   "cell_type": "code",
   "execution_count": 8,
   "id": "adverse-supervision",
   "metadata": {},
   "outputs": [],
   "source": [
    "import tensorflow as tf\n",
    "from tensorflow.keras.layers import Dense, Dropout, Flatten, Conv2D, MaxPool2D, BatchNormalization\n",
    "from tensorflow.keras.optimizers import Adam\n",
    "from tensorflow.keras.models import Sequential\n",
    "from tensorflow.keras.callbacks import ReduceLROnPlateau, ModelCheckpoint, EarlyStopping\n",
    "\n",
    "def build_model(input_shape, num_classes):\n",
    "    model = Sequential()\n",
    "    model.add(Conv2D(64,(3,3), input_shape=input_shape))\n",
    "    model.add(MaxPool2D())\n",
    "    model.add(Conv2D(128,(3,3)))\n",
    "    model.add(MaxPool2D())\n",
    "    model.add(Conv2D(256,(3,3)))\n",
    "    model.add(Conv2D(256, (3,3)))\n",
    "    model.add(MaxPool2D())\n",
    "    model.add(Conv2D(512,(3,3)))\n",
    "    model.add(Conv2D(512,(3,3)))\n",
    "    model.add(MaxPool2D())\n",
    "    model.add(Flatten())\n",
    "    model.add(Dense(4096,activation='relu'))\n",
    "    model.add(Dense(4096,activation='relu'))\n",
    "    model.add(Dense(num_classes,activation='softmax'))\n",
    "    \n",
    "    return model"
   ]
  },
  {
   "cell_type": "code",
   "execution_count": 13,
   "id": "expected-design",
   "metadata": {},
   "outputs": [],
   "source": [
    "model = build_model((112,112,3),10\n",
    "                   )"
   ]
  },
  {
   "cell_type": "code",
   "execution_count": 14,
   "id": "behavioral-vegetation",
   "metadata": {},
   "outputs": [],
   "source": [
    "model.compile(optimizer = 'Adam', loss ='sparse_categorical_crossentropy', metrics = ['accuracy'])"
   ]
  },
  {
   "cell_type": "code",
   "execution_count": 15,
   "id": "advanced-discrimination",
   "metadata": {},
   "outputs": [
    {
     "name": "stdout",
     "output_type": "stream",
     "text": [
      "Model: \"sequential\"\n",
      "_________________________________________________________________\n",
      "Layer (type)                 Output Shape              Param #   \n",
      "=================================================================\n",
      "conv2d (Conv2D)              (None, 110, 110, 64)      1792      \n",
      "_________________________________________________________________\n",
      "max_pooling2d (MaxPooling2D) (None, 55, 55, 64)        0         \n",
      "_________________________________________________________________\n",
      "conv2d_1 (Conv2D)            (None, 53, 53, 128)       73856     \n",
      "_________________________________________________________________\n",
      "max_pooling2d_1 (MaxPooling2 (None, 26, 26, 128)       0         \n",
      "_________________________________________________________________\n",
      "conv2d_2 (Conv2D)            (None, 24, 24, 256)       295168    \n",
      "_________________________________________________________________\n",
      "conv2d_3 (Conv2D)            (None, 22, 22, 256)       590080    \n",
      "_________________________________________________________________\n",
      "max_pooling2d_2 (MaxPooling2 (None, 11, 11, 256)       0         \n",
      "_________________________________________________________________\n",
      "conv2d_4 (Conv2D)            (None, 9, 9, 512)         1180160   \n",
      "_________________________________________________________________\n",
      "conv2d_5 (Conv2D)            (None, 7, 7, 512)         2359808   \n",
      "_________________________________________________________________\n",
      "max_pooling2d_3 (MaxPooling2 (None, 3, 3, 512)         0         \n",
      "_________________________________________________________________\n",
      "flatten (Flatten)            (None, 4608)              0         \n",
      "_________________________________________________________________\n",
      "dense (Dense)                (None, 4096)              18878464  \n",
      "_________________________________________________________________\n",
      "dense_1 (Dense)              (None, 4096)              16781312  \n",
      "_________________________________________________________________\n",
      "dense_2 (Dense)              (None, 10)                40970     \n",
      "=================================================================\n",
      "Total params: 40,201,610\n",
      "Trainable params: 40,201,610\n",
      "Non-trainable params: 0\n",
      "_________________________________________________________________\n"
     ]
    }
   ],
   "source": [
    "model.summary()"
   ]
  },
  {
   "cell_type": "code",
   "execution_count": 16,
   "id": "continental-devil",
   "metadata": {},
   "outputs": [],
   "source": [
    "save_weight = '../3D-CNN-Gesture-recognition/leapGestRecog.h5'\n",
    "mcp = ModelCheckpoint(save_weight,monitor='val_loss',verbose=1,save_best_only=True,save_weight_only=True)\n",
    "\n",
    "earlystop = EarlyStopping(monitor='val_loss',patience=10)\n",
    "reduce_lr = ReduceLROnPlateau(monitor='val_loss',factor=0.1,patience=10,verbose=0,mode='auto',min_lr=0.001)"
   ]
  },
  {
   "cell_type": "code",
   "execution_count": 17,
   "id": "catholic-spouse",
   "metadata": {
    "scrolled": true
   },
   "outputs": [
    {
     "name": "stdout",
     "output_type": "stream",
     "text": [
      "Epoch 1/50\n",
      "156/157 [============================>.] - ETA: 2s - loss: 14.1778 - accuracy: 0.0976\n",
      "Epoch 00001: val_loss improved from inf to 14.50182, saving model to ../3D-CNN-Gesture-recognition/leapGestRecog.h5\n",
      "157/157 [==============================] - 500s 3s/step - loss: 14.1773 - accuracy: 0.0978 - val_loss: 14.5018 - val_accuracy: 0.1000\n",
      "Epoch 2/50\n",
      "156/157 [============================>.] - ETA: 2s - loss: 14.5118 - accuracy: 0.1001\n",
      "Epoch 00002: val_loss did not improve from 14.50182\n",
      "157/157 [==============================] - 623s 4s/step - loss: 14.5139 - accuracy: 0.1000 - val_loss: 14.5241 - val_accuracy: 0.1000\n",
      "Epoch 3/50\n",
      "156/157 [============================>.] - ETA: 2s - loss: 14.5085 - accuracy: 0.1000\n",
      "Epoch 00003: val_loss did not improve from 14.50182\n",
      "157/157 [==============================] - 700s 4s/step - loss: 14.5092 - accuracy: 0.1000 - val_loss: 14.5241 - val_accuracy: 0.1000\n",
      "Epoch 4/50\n",
      "156/157 [============================>.] - ETA: 2s - loss: 14.5005 - accuracy: 0.1002\n",
      "Epoch 00004: val_loss did not improve from 14.50182\n",
      "157/157 [==============================] - 583s 4s/step - loss: 14.5044 - accuracy: 0.1000 - val_loss: 14.5241 - val_accuracy: 0.1000\n",
      "Epoch 5/50\n",
      "156/157 [============================>.] - ETA: 5s - loss: 14.5021 - accuracy: 0.1001 \n",
      "Epoch 00005: val_loss did not improve from 14.50182\n",
      "157/157 [==============================] - 1097s 7s/step - loss: 14.5044 - accuracy: 0.1000 - val_loss: 14.5241 - val_accuracy: 0.1000\n",
      "Epoch 6/50\n",
      "156/157 [============================>.] - ETA: 2s - loss: 14.5102 - accuracy: 0.0999\n",
      "Epoch 00006: val_loss did not improve from 14.50182\n",
      "157/157 [==============================] - 499s 3s/step - loss: 14.5092 - accuracy: 0.1000 - val_loss: 14.5241 - val_accuracy: 0.1000\n",
      "Epoch 7/50\n",
      "156/157 [============================>.] - ETA: 2s - loss: 14.5150 - accuracy: 0.0999\n",
      "Epoch 00007: val_loss did not improve from 14.50182\n",
      "157/157 [==============================] - 494s 3s/step - loss: 14.5139 - accuracy: 0.1000 - val_loss: 14.5241 - val_accuracy: 0.1000\n",
      "Epoch 8/50\n",
      "156/157 [============================>.] - ETA: 2s - loss: 14.4972 - accuracy: 0.1001\n",
      "Epoch 00008: val_loss did not improve from 14.50182\n",
      "157/157 [==============================] - 490s 3s/step - loss: 14.4996 - accuracy: 0.1000 - val_loss: 14.5018 - val_accuracy: 0.1000\n",
      "Epoch 9/50\n",
      "156/157 [============================>.] - ETA: 2s - loss: 14.5005 - accuracy: 0.1002\n",
      "Epoch 00009: val_loss improved from 14.50182 to 14.45719, saving model to ../3D-CNN-Gesture-recognition/leapGestRecog.h5\n",
      "157/157 [==============================] - 498s 3s/step - loss: 14.5044 - accuracy: 0.1000 - val_loss: 14.4572 - val_accuracy: 0.1000\n",
      "Epoch 10/50\n",
      "156/157 [============================>.] - ETA: 2s - loss: 14.5069 - accuracy: 0.1001\n",
      "Epoch 00010: val_loss did not improve from 14.45719\n",
      "157/157 [==============================] - 493s 3s/step - loss: 14.5092 - accuracy: 0.1000 - val_loss: 14.5018 - val_accuracy: 0.1000\n",
      "Epoch 11/50\n",
      "156/157 [============================>.] - ETA: 2s - loss: 14.5021 - accuracy: 0.1001\n",
      "Epoch 00011: val_loss did not improve from 14.45719\n",
      "157/157 [==============================] - 495s 3s/step - loss: 14.5044 - accuracy: 0.1000 - val_loss: 14.5018 - val_accuracy: 0.1000\n",
      "Epoch 12/50\n",
      "156/157 [============================>.] - ETA: 2s - loss: 14.5182 - accuracy: 0.0997\n",
      "Epoch 00012: val_loss did not improve from 14.45719\n",
      "157/157 [==============================] - 489s 3s/step - loss: 14.5139 - accuracy: 0.1000 - val_loss: 14.5241 - val_accuracy: 0.1000\n",
      "Epoch 13/50\n",
      "156/157 [============================>.] - ETA: 2s - loss: 14.5021 - accuracy: 0.0995\n",
      "Epoch 00013: val_loss did not improve from 14.45719\n",
      "157/157 [==============================] - 489s 3s/step - loss: 14.4948 - accuracy: 0.1000 - val_loss: 14.5018 - val_accuracy: 0.1000\n",
      "Epoch 14/50\n",
      "156/157 [============================>.] - ETA: 2s - loss: 14.5069 - accuracy: 0.0998\n",
      "Epoch 00014: val_loss did not improve from 14.45719\n",
      "157/157 [==============================] - 493s 3s/step - loss: 14.5044 - accuracy: 0.1000 - val_loss: 14.5241 - val_accuracy: 0.1000\n",
      "Epoch 15/50\n",
      "156/157 [============================>.] - ETA: 2s - loss: 14.4956 - accuracy: 0.1002\n",
      "Epoch 00015: val_loss did not improve from 14.45719\n",
      "157/157 [==============================] - 498s 3s/step - loss: 14.4996 - accuracy: 0.1000 - val_loss: 14.5018 - val_accuracy: 0.1000\n",
      "Epoch 16/50\n",
      "156/157 [============================>.] - ETA: 2s - loss: 14.5069 - accuracy: 0.1000\n",
      "Epoch 00016: val_loss did not improve from 14.45719\n",
      "157/157 [==============================] - 494s 3s/step - loss: 14.5044 - accuracy: 0.1000 - val_loss: 14.5241 - val_accuracy: 0.1000\n",
      "Epoch 17/50\n",
      "156/157 [============================>.] - ETA: 2s - loss: 14.4956 - accuracy: 0.1005\n",
      "Epoch 00017: val_loss did not improve from 14.45719\n",
      "157/157 [==============================] - 500s 3s/step - loss: 14.5044 - accuracy: 0.1000 - val_loss: 14.5018 - val_accuracy: 0.1000\n",
      "Epoch 18/50\n",
      "156/157 [============================>.] - ETA: 2s - loss: 14.5118 - accuracy: 0.0998\n",
      "Epoch 00018: val_loss did not improve from 14.45719\n",
      "157/157 [==============================] - 501s 3s/step - loss: 14.5092 - accuracy: 0.1000 - val_loss: 14.5018 - val_accuracy: 0.1000\n",
      "Epoch 19/50\n",
      "156/157 [============================>.] - ETA: 2s - loss: 14.5198 - accuracy: 0.0996\n",
      "Epoch 00019: val_loss did not improve from 14.45719\n",
      "157/157 [==============================] - 509s 3s/step - loss: 14.5139 - accuracy: 0.1000 - val_loss: 14.5018 - val_accuracy: 0.1000\n"
     ]
    }
   ],
   "source": [
    "epoch = 50\n",
    "history = model.fit_generator(train_generator,\n",
    "                              epochs=epoch,validation_data=val_generator,\n",
    "                              callbacks=[earlystop,reduce_lr,mcp])"
   ]
  },
  {
   "cell_type": "code",
   "execution_count": 20,
   "id": "allied-matter",
   "metadata": {},
   "outputs": [
    {
     "name": "stdout",
     "output_type": "stream",
     "text": [
      "data batch shape: (64, 112, 112, 3)\n",
      "labels batch shape: (64,)\n"
     ]
    }
   ],
   "source": [
    "for data_batch,label_batch in test_generator:\n",
    "    print(\"data batch shape:\",data_batch.shape)\n",
    "    print(\"labels batch shape:\",label_batch.shape)\n",
    "    break"
   ]
  },
  {
   "cell_type": "code",
   "execution_count": 19,
   "id": "collective-priority",
   "metadata": {},
   "outputs": [
    {
     "data": {
      "image/png": "[encoded data removed]",
      "text/plain": [
       "<PIL.Image.Image image mode=RGBA size=1758x587 at 0x7FE8CE795190>"
      ]
     },
     "execution_count": 19,
     "metadata": {},
     "output_type": "execute_result"
    }
   ],
   "source": [
    "import visualkeras\n",
    "visualkeras.layered_view(model)"
   ]
  },
  {
   "cell_type": "code",
   "execution_count": 21,
   "id": "written-guide",
   "metadata": {},
   "outputs": [],
   "source": [
    "results = model.evaluate_generator(test_generator)"
   ]
  },
  {
   "cell_type": "code",
   "execution_count": 26,
   "id": "individual-monthly",
   "metadata": {},
   "outputs": [
    {
     "data": {
      "text/plain": [
       "[14.524138076395928, 0.1]"
      ]
     },
     "execution_count": 26,
     "metadata": {},
     "output_type": "execute_result"
    }
   ],
   "source": [
    "results"
   ]
  },
  {
   "cell_type": "code",
   "execution_count": null,
   "id": "distributed-count",
   "metadata": {},
   "outputs": [],
   "source": []
  }
 ],
 "metadata": {
  "kernelspec": {
   "display_name": "Python 3",
   "language": "python",
   "name": "python3"
  },
  "language_info": {
   "codemirror_mode": {
    "name": "ipython",
    "version": 3
   },
   "file_extension": ".py",
   "mimetype": "text/x-python",
   "name": "python",
   "nbconvert_exporter": "python",
   "pygments_lexer": "ipython3",
   "version": "3.7.9"
  }
 },
 "nbformat": 4,
 "nbformat_minor": 5
}
